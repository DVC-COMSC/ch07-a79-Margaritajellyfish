{
 "cells": [
  {
   "cell_type": "code",
   "execution_count": 5,
   "metadata": {},
   "outputs": [
    {
     "name": "stdout",
     "output_type": "stream",
     "text": [
      "Sum of rows:  317 242 209 \n",
      "Sum of columns:  176 109 163 207 113 "
     ]
    }
   ],
   "source": [
    "\n",
    "numbers = [     [99, 11, 66, 86, 55],\n",
    "               [44, 21, 65, 88, 24],\n",
    "               [33, 77, 32, 33, 34]]\n",
    "\n",
    "\n",
    "rnum = len(numbers)\n",
    "cnum = len(numbers[0])\n",
    "\n",
    "print ('Sum of rows: ', end=' ')\n",
    "for i in range(rnum):\n",
    "\trsum = sum(numbers[i])\n",
    "\tprint (rsum, end=' ')\n",
    "print()\n",
    "\n",
    "\n",
    "# ******************************\n",
    "# Make your Code\n",
    "# ******************************\n",
    "print ('Sum of columns: ', end=' ')\n",
    "for j in range(cnum):\n",
    "    csum = 0\n",
    "    for k in range(rnum):\n",
    "        csum += numbers[k][j]\n",
    "    print (csum, end=' ')"
   ]
  }
 ],
 "metadata": {
  "kernelspec": {
   "display_name": "Python 3.9.12 64-bit ('asd')",
   "language": "python",
   "name": "python3"
  },
  "language_info": {
   "codemirror_mode": {
    "name": "ipython",
    "version": 3
   },
   "file_extension": ".py",
   "mimetype": "text/x-python",
   "name": "python",
   "nbconvert_exporter": "python",
   "pygments_lexer": "ipython3",
   "version": "3.9.12"
  },
  "orig_nbformat": 4,
  "vscode": {
   "interpreter": {
    "hash": "832135ff5497c3421de3ca3a3fd0e8eff12da80f46f5847f16a1bfc3f4576f77"
   }
  }
 },
 "nbformat": 4,
 "nbformat_minor": 2
}
